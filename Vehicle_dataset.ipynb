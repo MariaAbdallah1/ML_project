{
 "cells": [
  {
   "cell_type": "markdown",
   "id": "f518d2df",
   "metadata": {},
   "source": [
    "Importing the Dependencies "
   ]
  },
  {
   "cell_type": "code",
   "execution_count": 1,
   "id": "4d9fec16",
   "metadata": {},
   "outputs": [],
   "source": [
    "import pandas as pd\n",
    "import numpy as np\n",
    "import category_encoders as ce\n",
    "import math\n",
    "import re\n",
    "from sklearn.model_selection import train_test_split, KFold, cross_val_score\n",
    "from sklearn.preprocessing import StandardScaler\n",
    "from sklearn.linear_model import LinearRegression\n",
    "from sklearn.metrics import mean_squared_error\n",
    "from sklearn import metrics\n",
    "import matplotlib.pyplot as plt\n",
    "from sklearn.preprocessing import PolynomialFeatures\n",
    "from sklearn.metrics import r2_score, mean_squared_error\n",
    "\n",
    "from sklearn.metrics import accuracy_score\n",
    "from sklearn.neighbors import KNeighborsRegressor"
   ]
  },
  {
   "cell_type": "markdown",
   "id": "806c0d85",
   "metadata": {},
   "source": [
    "Data Collection and Processing "
   ]
  },
  {
   "cell_type": "code",
   "execution_count": 2,
   "id": "3c28dc51",
   "metadata": {},
   "outputs": [],
   "source": [
    "# Loading the data from cvs file to pandas dataframe \n",
    "df =pd.read_csv(\"Car details v3.csv\")"
   ]
  },
  {
   "cell_type": "code",
   "execution_count": 3,
   "id": "3408a134",
   "metadata": {
    "scrolled": false
   },
   "outputs": [
    {
     "data": {
      "text/html": [
       "<div>\n",
       "<style scoped>\n",
       "    .dataframe tbody tr th:only-of-type {\n",
       "        vertical-align: middle;\n",
       "    }\n",
       "\n",
       "    .dataframe tbody tr th {\n",
       "        vertical-align: top;\n",
       "    }\n",
       "\n",
       "    .dataframe thead th {\n",
       "        text-align: right;\n",
       "    }\n",
       "</style>\n",
       "<table border=\"1\" class=\"dataframe\">\n",
       "  <thead>\n",
       "    <tr style=\"text-align: right;\">\n",
       "      <th></th>\n",
       "      <th>name</th>\n",
       "      <th>year</th>\n",
       "      <th>selling_price</th>\n",
       "      <th>km_driven</th>\n",
       "      <th>fuel</th>\n",
       "      <th>seller_type</th>\n",
       "      <th>transmission</th>\n",
       "      <th>owner</th>\n",
       "      <th>mileage</th>\n",
       "      <th>engine</th>\n",
       "      <th>max_power</th>\n",
       "      <th>torque</th>\n",
       "      <th>seats</th>\n",
       "    </tr>\n",
       "  </thead>\n",
       "  <tbody>\n",
       "    <tr>\n",
       "      <th>0</th>\n",
       "      <td>Maruti Swift Dzire VDI</td>\n",
       "      <td>2014</td>\n",
       "      <td>450000</td>\n",
       "      <td>145500</td>\n",
       "      <td>Diesel</td>\n",
       "      <td>Individual</td>\n",
       "      <td>Manual</td>\n",
       "      <td>First Owner</td>\n",
       "      <td>23.4 kmpl</td>\n",
       "      <td>1248 CC</td>\n",
       "      <td>74 bhp</td>\n",
       "      <td>190Nm@ 2000rpm</td>\n",
       "      <td>5.0</td>\n",
       "    </tr>\n",
       "    <tr>\n",
       "      <th>1</th>\n",
       "      <td>Skoda Rapid 1.5 TDI Ambition</td>\n",
       "      <td>2014</td>\n",
       "      <td>370000</td>\n",
       "      <td>120000</td>\n",
       "      <td>Diesel</td>\n",
       "      <td>Individual</td>\n",
       "      <td>Manual</td>\n",
       "      <td>Second Owner</td>\n",
       "      <td>21.14 kmpl</td>\n",
       "      <td>1498 CC</td>\n",
       "      <td>103.52 bhp</td>\n",
       "      <td>250Nm@ 1500-2500rpm</td>\n",
       "      <td>5.0</td>\n",
       "    </tr>\n",
       "    <tr>\n",
       "      <th>2</th>\n",
       "      <td>Honda City 2017-2020 EXi</td>\n",
       "      <td>2006</td>\n",
       "      <td>158000</td>\n",
       "      <td>140000</td>\n",
       "      <td>Petrol</td>\n",
       "      <td>Individual</td>\n",
       "      <td>Manual</td>\n",
       "      <td>Third Owner</td>\n",
       "      <td>17.7 kmpl</td>\n",
       "      <td>1497 CC</td>\n",
       "      <td>78 bhp</td>\n",
       "      <td>12.7@ 2,700(kgm@ rpm)</td>\n",
       "      <td>5.0</td>\n",
       "    </tr>\n",
       "    <tr>\n",
       "      <th>3</th>\n",
       "      <td>Hyundai i20 Sportz Diesel</td>\n",
       "      <td>2010</td>\n",
       "      <td>225000</td>\n",
       "      <td>127000</td>\n",
       "      <td>Diesel</td>\n",
       "      <td>Individual</td>\n",
       "      <td>Manual</td>\n",
       "      <td>First Owner</td>\n",
       "      <td>23.0 kmpl</td>\n",
       "      <td>1396 CC</td>\n",
       "      <td>90 bhp</td>\n",
       "      <td>22.4 kgm at 1750-2750rpm</td>\n",
       "      <td>5.0</td>\n",
       "    </tr>\n",
       "    <tr>\n",
       "      <th>4</th>\n",
       "      <td>Maruti Swift VXI BSIII</td>\n",
       "      <td>2007</td>\n",
       "      <td>130000</td>\n",
       "      <td>120000</td>\n",
       "      <td>Petrol</td>\n",
       "      <td>Individual</td>\n",
       "      <td>Manual</td>\n",
       "      <td>First Owner</td>\n",
       "      <td>16.1 kmpl</td>\n",
       "      <td>1298 CC</td>\n",
       "      <td>88.2 bhp</td>\n",
       "      <td>11.5@ 4,500(kgm@ rpm)</td>\n",
       "      <td>5.0</td>\n",
       "    </tr>\n",
       "  </tbody>\n",
       "</table>\n",
       "</div>"
      ],
      "text/plain": [
       "                           name  year  selling_price  km_driven    fuel  \\\n",
       "0        Maruti Swift Dzire VDI  2014         450000     145500  Diesel   \n",
       "1  Skoda Rapid 1.5 TDI Ambition  2014         370000     120000  Diesel   \n",
       "2      Honda City 2017-2020 EXi  2006         158000     140000  Petrol   \n",
       "3     Hyundai i20 Sportz Diesel  2010         225000     127000  Diesel   \n",
       "4        Maruti Swift VXI BSIII  2007         130000     120000  Petrol   \n",
       "\n",
       "  seller_type transmission         owner     mileage   engine   max_power  \\\n",
       "0  Individual       Manual   First Owner   23.4 kmpl  1248 CC      74 bhp   \n",
       "1  Individual       Manual  Second Owner  21.14 kmpl  1498 CC  103.52 bhp   \n",
       "2  Individual       Manual   Third Owner   17.7 kmpl  1497 CC      78 bhp   \n",
       "3  Individual       Manual   First Owner   23.0 kmpl  1396 CC      90 bhp   \n",
       "4  Individual       Manual   First Owner   16.1 kmpl  1298 CC    88.2 bhp   \n",
       "\n",
       "                     torque  seats  \n",
       "0            190Nm@ 2000rpm    5.0  \n",
       "1       250Nm@ 1500-2500rpm    5.0  \n",
       "2     12.7@ 2,700(kgm@ rpm)    5.0  \n",
       "3  22.4 kgm at 1750-2750rpm    5.0  \n",
       "4     11.5@ 4,500(kgm@ rpm)    5.0  "
      ]
     },
     "execution_count": 3,
     "metadata": {},
     "output_type": "execute_result"
    }
   ],
   "source": [
    "df.head()"
   ]
  },
  {
   "cell_type": "code",
   "execution_count": 4,
   "id": "41cc658f",
   "metadata": {},
   "outputs": [
    {
     "data": {
      "text/plain": [
       "(8128, 13)"
      ]
     },
     "execution_count": 4,
     "metadata": {},
     "output_type": "execute_result"
    }
   ],
   "source": [
    "#cheacking the number of rows and columns \n",
    "df.shape "
   ]
  },
  {
   "cell_type": "code",
   "execution_count": 5,
   "id": "f5f6cbd9",
   "metadata": {},
   "outputs": [
    {
     "name": "stdout",
     "output_type": "stream",
     "text": [
      "<class 'pandas.core.frame.DataFrame'>\n",
      "RangeIndex: 8128 entries, 0 to 8127\n",
      "Data columns (total 13 columns):\n",
      " #   Column         Non-Null Count  Dtype  \n",
      "---  ------         --------------  -----  \n",
      " 0   name           8128 non-null   object \n",
      " 1   year           8128 non-null   int64  \n",
      " 2   selling_price  8128 non-null   int64  \n",
      " 3   km_driven      8128 non-null   int64  \n",
      " 4   fuel           8128 non-null   object \n",
      " 5   seller_type    8128 non-null   object \n",
      " 6   transmission   8128 non-null   object \n",
      " 7   owner          8128 non-null   object \n",
      " 8   mileage        7907 non-null   object \n",
      " 9   engine         7907 non-null   object \n",
      " 10  max_power      7913 non-null   object \n",
      " 11  torque         7906 non-null   object \n",
      " 12  seats          7907 non-null   float64\n",
      "dtypes: float64(1), int64(3), object(9)\n",
      "memory usage: 825.6+ KB\n"
     ]
    }
   ],
   "source": [
    "#Getting some Information about the dataset\n",
    "df.info()"
   ]
  },
  {
   "cell_type": "code",
   "execution_count": 6,
   "id": "c409d5e4",
   "metadata": {},
   "outputs": [
    {
     "data": {
      "text/plain": [
       "name               0\n",
       "year               0\n",
       "selling_price      0\n",
       "km_driven          0\n",
       "fuel               0\n",
       "seller_type        0\n",
       "transmission       0\n",
       "owner              0\n",
       "mileage          221\n",
       "engine           221\n",
       "max_power        215\n",
       "torque           222\n",
       "seats            221\n",
       "dtype: int64"
      ]
     },
     "execution_count": 6,
     "metadata": {},
     "output_type": "execute_result"
    }
   ],
   "source": [
    "#Cheacking the numbur of missing values \n",
    "df.isnull().sum()"
   ]
  },
  {
   "cell_type": "markdown",
   "id": "69582e4f",
   "metadata": {},
   "source": [
    "Fixing Name"
   ]
  },
  {
   "cell_type": "code",
   "execution_count": 7,
   "id": "e69c5bc7",
   "metadata": {},
   "outputs": [
    {
     "data": {
      "text/plain": [
       "array(['Maruti Swift Dzire VDI', 'Skoda Rapid 1.5 TDI Ambition',\n",
       "       'Honda City 2017-2020 EXi', ..., 'Tata Nexon 1.5 Revotorq XT',\n",
       "       'Ford Freestyle Titanium Plus Diesel BSIV',\n",
       "       'Toyota Innova 2.5 GX (Diesel) 8 Seater BS IV'], dtype=object)"
      ]
     },
     "execution_count": 7,
     "metadata": {},
     "output_type": "execute_result"
    }
   ],
   "source": [
    "#Finding Unique Values\n",
    "df[\"name\"].unique()"
   ]
  },
  {
   "cell_type": "code",
   "execution_count": 8,
   "id": "9544261e",
   "metadata": {},
   "outputs": [],
   "source": [
    "#representing the \"name\" column by taking only the first two words from each entry\n",
    "def get_2car(car):\n",
    "    try:\n",
    "        x=car.split(\" \")[0:2]\n",
    "        return \" \".join(x)\n",
    "    except:\n",
    "        np.nan\n",
    "\n",
    "        \n",
    "df[\"name\"]=df[\"name\"].apply(get_2car)"
   ]
  },
  {
   "cell_type": "code",
   "execution_count": 9,
   "id": "f82525f1",
   "metadata": {},
   "outputs": [
    {
     "data": {
      "text/plain": [
       "0        Maruti Swift\n",
       "1         Skoda Rapid\n",
       "2          Honda City\n",
       "3         Hyundai i20\n",
       "4        Maruti Swift\n",
       "            ...      \n",
       "8123      Hyundai i20\n",
       "8124    Hyundai Verna\n",
       "8125     Maruti Swift\n",
       "8126      Tata Indigo\n",
       "8127      Tata Indigo\n",
       "Name: name, Length: 8128, dtype: object"
      ]
     },
     "execution_count": 9,
     "metadata": {},
     "output_type": "execute_result"
    }
   ],
   "source": [
    "df[\"name\"]"
   ]
  },
  {
   "cell_type": "code",
   "execution_count": 10,
   "id": "8dc568bb",
   "metadata": {},
   "outputs": [
    {
     "data": {
      "text/plain": [
       "array(['Diesel', 'Petrol', 'LPG', 'CNG'], dtype=object)"
      ]
     },
     "execution_count": 10,
     "metadata": {},
     "output_type": "execute_result"
    }
   ],
   "source": [
    "#Cheacking fuel\n",
    "df[\"fuel\"].unique()"
   ]
  },
  {
   "cell_type": "code",
   "execution_count": 11,
   "id": "e9b2aa61",
   "metadata": {
    "scrolled": true
   },
   "outputs": [
    {
     "data": {
      "text/plain": [
       "Diesel    4402\n",
       "Petrol    3631\n",
       "CNG         57\n",
       "LPG         38\n",
       "Name: fuel, dtype: int64"
      ]
     },
     "execution_count": 11,
     "metadata": {},
     "output_type": "execute_result"
    }
   ],
   "source": [
    "#cheacking the distribution of categorical data \n",
    "df[\"fuel\"].value_counts()"
   ]
  },
  {
   "cell_type": "code",
   "execution_count": 12,
   "id": "cf5dd530",
   "metadata": {},
   "outputs": [
    {
     "data": {
      "text/plain": [
       "array(['Individual', 'Dealer', 'Trustmark Dealer'], dtype=object)"
      ]
     },
     "execution_count": 12,
     "metadata": {},
     "output_type": "execute_result"
    }
   ],
   "source": [
    "#Cheacking seller_type \n",
    "df[\"seller_type\"].unique()"
   ]
  },
  {
   "cell_type": "code",
   "execution_count": 13,
   "id": "81ec89f6",
   "metadata": {},
   "outputs": [
    {
     "data": {
      "text/plain": [
       "Individual          6766\n",
       "Dealer              1126\n",
       "Trustmark Dealer     236\n",
       "Name: seller_type, dtype: int64"
      ]
     },
     "execution_count": 13,
     "metadata": {},
     "output_type": "execute_result"
    }
   ],
   "source": [
    "df[\"seller_type\"].value_counts()"
   ]
  },
  {
   "cell_type": "code",
   "execution_count": 14,
   "id": "fbb123ee",
   "metadata": {},
   "outputs": [
    {
     "data": {
      "text/plain": [
       "array(['Manual', 'Automatic'], dtype=object)"
      ]
     },
     "execution_count": 14,
     "metadata": {},
     "output_type": "execute_result"
    }
   ],
   "source": [
    "#Cheacking transmission\n",
    "df[\"transmission\"].unique()"
   ]
  },
  {
   "cell_type": "code",
   "execution_count": 15,
   "id": "2a1644b5",
   "metadata": {},
   "outputs": [
    {
     "data": {
      "text/plain": [
       "Manual       7078\n",
       "Automatic    1050\n",
       "Name: transmission, dtype: int64"
      ]
     },
     "execution_count": 15,
     "metadata": {},
     "output_type": "execute_result"
    }
   ],
   "source": [
    "df[\"transmission\"].value_counts()"
   ]
  },
  {
   "cell_type": "code",
   "execution_count": 16,
   "id": "8467a820",
   "metadata": {},
   "outputs": [
    {
     "data": {
      "text/plain": [
       "array(['First Owner', 'Second Owner', 'Third Owner',\n",
       "       'Fourth & Above Owner', 'Test Drive Car'], dtype=object)"
      ]
     },
     "execution_count": 16,
     "metadata": {},
     "output_type": "execute_result"
    }
   ],
   "source": [
    "#Cheacking owner\n",
    "df[\"owner\"].unique()"
   ]
  },
  {
   "cell_type": "code",
   "execution_count": 17,
   "id": "b904ddf4",
   "metadata": {},
   "outputs": [
    {
     "data": {
      "text/plain": [
       "First Owner             5289\n",
       "Second Owner            2105\n",
       "Third Owner              555\n",
       "Fourth & Above Owner     174\n",
       "Test Drive Car             5\n",
       "Name: owner, dtype: int64"
      ]
     },
     "execution_count": 17,
     "metadata": {},
     "output_type": "execute_result"
    }
   ],
   "source": [
    "df[\"owner\"].value_counts()"
   ]
  },
  {
   "cell_type": "code",
   "execution_count": 18,
   "id": "58764771",
   "metadata": {},
   "outputs": [],
   "source": [
    "#drop Test Drive Car becaus it is just 5\n",
    "df.drop(df[df[\"owner\"]==\"Test Drive Car\"].index,inplace=True)"
   ]
  },
  {
   "cell_type": "code",
   "execution_count": 19,
   "id": "061c0de4",
   "metadata": {},
   "outputs": [],
   "source": [
    "df.reset_index(inplace=True , drop= True)"
   ]
  },
  {
   "cell_type": "code",
   "execution_count": 20,
   "id": "92e274aa",
   "metadata": {
    "scrolled": false
   },
   "outputs": [
    {
     "data": {
      "text/plain": [
       "First Owner             5289\n",
       "Second Owner            2105\n",
       "Third Owner              555\n",
       "Fourth & Above Owner     174\n",
       "Name: owner, dtype: int64"
      ]
     },
     "execution_count": 20,
     "metadata": {},
     "output_type": "execute_result"
    }
   ],
   "source": [
    "df[\"owner\"].value_counts()"
   ]
  },
  {
   "cell_type": "markdown",
   "id": "4f76f076",
   "metadata": {},
   "source": [
    "Fixing mileage"
   ]
  },
  {
   "cell_type": "code",
   "execution_count": 21,
   "id": "6e626301",
   "metadata": {},
   "outputs": [],
   "source": [
    "def fix_Mileage(mileage):\n",
    "    try:\n",
    "        if mileage.endswith(\"kmpl\"):\n",
    "            return mileage[:-4].strip()\n",
    "        elif mileage.endswith(\"km/kg\"):  \n",
    "            return mileage[:-5].strip()\n",
    "        else:\n",
    "            return np.nan\n",
    "    except:\n",
    "        return np.nan\n",
    "df[\"mileage\"]=df[\"mileage\"].apply(fix_Mileage)\n",
    "\n",
    "df[\"mileage\"]=pd.to_numeric(df[\"mileage\"])"
   ]
  },
  {
   "cell_type": "code",
   "execution_count": 22,
   "id": "cd5fdccf",
   "metadata": {},
   "outputs": [
    {
     "data": {
      "text/plain": [
       "221"
      ]
     },
     "execution_count": 22,
     "metadata": {},
     "output_type": "execute_result"
    }
   ],
   "source": [
    "# Cheacking the missing values in mileage\n",
    "df[\"mileage\"].isna().sum()"
   ]
  },
  {
   "cell_type": "code",
   "execution_count": 23,
   "id": "d9593a94",
   "metadata": {},
   "outputs": [],
   "source": [
    "#filling the missing values \n",
    "df[\"mileage\"].fillna(df[\"mileage\"].mean(),inplace= True)"
   ]
  },
  {
   "cell_type": "code",
   "execution_count": 24,
   "id": "352d7d53",
   "metadata": {
    "scrolled": true
   },
   "outputs": [
    {
     "data": {
      "text/plain": [
       "0"
      ]
     },
     "execution_count": 24,
     "metadata": {},
     "output_type": "execute_result"
    }
   ],
   "source": [
    "df[\"mileage\"].isna().sum()"
   ]
  },
  {
   "cell_type": "markdown",
   "id": "f4a757a7",
   "metadata": {},
   "source": [
    "Fixing engine"
   ]
  },
  {
   "cell_type": "code",
   "execution_count": 25,
   "id": "57eb6f26",
   "metadata": {},
   "outputs": [],
   "source": [
    "def fix_Engine(engine):\n",
    "    try:\n",
    "        return engine[:-2].strip()\n",
    "    except:\n",
    "        return np.nan\n",
    "\n",
    "df[\"engine\"]=df[\"engine\"].apply(fix_Engine)\n",
    "\n",
    "df[\"engine\"]=pd.to_numeric(df[\"engine\"])"
   ]
  },
  {
   "cell_type": "code",
   "execution_count": 26,
   "id": "cdff1705",
   "metadata": {},
   "outputs": [
    {
     "data": {
      "text/plain": [
       "221"
      ]
     },
     "execution_count": 26,
     "metadata": {},
     "output_type": "execute_result"
    }
   ],
   "source": [
    "# Cheacking the missing values in engine \n",
    "df[\"engine\"].isna().sum()"
   ]
  },
  {
   "cell_type": "code",
   "execution_count": 27,
   "id": "b2dfe53a",
   "metadata": {},
   "outputs": [],
   "source": [
    "#Replace the missing values with the median value of the \"engine\" column\n",
    "df[\"engine\"].fillna(df[\"engine\"].median(),inplace= True)"
   ]
  },
  {
   "cell_type": "code",
   "execution_count": 28,
   "id": "28bb9665",
   "metadata": {
    "scrolled": true
   },
   "outputs": [
    {
     "data": {
      "text/plain": [
       "0"
      ]
     },
     "execution_count": 28,
     "metadata": {},
     "output_type": "execute_result"
    }
   ],
   "source": [
    "df[\"engine\"].isna().sum()"
   ]
  },
  {
   "cell_type": "markdown",
   "id": "e77c1682",
   "metadata": {},
   "source": [
    "Fixing power"
   ]
  },
  {
   "cell_type": "code",
   "execution_count": 29,
   "id": "724c0b75",
   "metadata": {},
   "outputs": [],
   "source": [
    "def fix_Power(max_power):\n",
    "    try:\n",
    "        return max_power[:-3].strip()\n",
    "    except:\n",
    "        return np.nan\n",
    "\n",
    "df[\"max_power\"]=df[\"max_power\"].apply(fix_Power)\n",
    "df[\"max_power\"]=pd.to_numeric(df[\"max_power\"])"
   ]
  },
  {
   "cell_type": "code",
   "execution_count": 30,
   "id": "6634cde6",
   "metadata": {},
   "outputs": [],
   "source": [
    "#Replace the missing values with the mean value of the \"max_power\" column\n",
    "df[\"max_power\"].fillna(df[\"max_power\"].mean(),inplace= True)"
   ]
  },
  {
   "cell_type": "markdown",
   "id": "218fc2d0",
   "metadata": {},
   "source": [
    "Fixing torque"
   ]
  },
  {
   "cell_type": "code",
   "execution_count": 31,
   "id": "f4d9ce59",
   "metadata": {
    "scrolled": false
   },
   "outputs": [],
   "source": [
    "# Function to extract the first number from strings\n",
    "def extract_first_number(text):\n",
    "    match = re.search(r'\\d+(\\.\\d+)?', str(text))\n",
    "    if match:\n",
    "        return match.group()\n",
    "    return None\n",
    "\n",
    "# Apply function after converting column to string\n",
    "df['torque'] = df['torque'].astype(str).apply(extract_first_number)\n",
    "df[\"torque\"]=pd.to_numeric(df[\"torque\"])"
   ]
  },
  {
   "cell_type": "code",
   "execution_count": 32,
   "id": "a7dd3c8b",
   "metadata": {},
   "outputs": [],
   "source": [
    "#Replace the missing values with the mean value of the \"torque\" column\n",
    "df['torque'].fillna(df['torque'].mean(),inplace=True)"
   ]
  },
  {
   "cell_type": "code",
   "execution_count": 33,
   "id": "67190b54",
   "metadata": {
    "scrolled": true
   },
   "outputs": [
    {
     "data": {
      "text/plain": [
       "array([ 5.,  4., nan,  7.,  8.,  6.,  9., 10., 14.,  2.])"
      ]
     },
     "execution_count": 33,
     "metadata": {},
     "output_type": "execute_result"
    }
   ],
   "source": [
    "#Cheacking seats\n",
    "df.seats.unique()"
   ]
  },
  {
   "cell_type": "code",
   "execution_count": 34,
   "id": "c0a06266",
   "metadata": {
    "scrolled": true
   },
   "outputs": [],
   "source": [
    "#Replace the missing values with the mode value of the \"seats\" column\n",
    "df['seats'].fillna(df['seats'].mode()[0],inplace=True)"
   ]
  },
  {
   "cell_type": "code",
   "execution_count": 35,
   "id": "21dc5496",
   "metadata": {
    "scrolled": false
   },
   "outputs": [
    {
     "data": {
      "text/plain": [
       "array([ 5.,  4.,  7.,  8.,  6.,  9., 10., 14.,  2.])"
      ]
     },
     "execution_count": 35,
     "metadata": {},
     "output_type": "execute_result"
    }
   ],
   "source": [
    "df.seats.unique()"
   ]
  },
  {
   "cell_type": "code",
   "execution_count": 36,
   "id": "c47d31a2",
   "metadata": {},
   "outputs": [
    {
     "data": {
      "text/html": [
       "<div>\n",
       "<style scoped>\n",
       "    .dataframe tbody tr th:only-of-type {\n",
       "        vertical-align: middle;\n",
       "    }\n",
       "\n",
       "    .dataframe tbody tr th {\n",
       "        vertical-align: top;\n",
       "    }\n",
       "\n",
       "    .dataframe thead th {\n",
       "        text-align: right;\n",
       "    }\n",
       "</style>\n",
       "<table border=\"1\" class=\"dataframe\">\n",
       "  <thead>\n",
       "    <tr style=\"text-align: right;\">\n",
       "      <th></th>\n",
       "      <th>name</th>\n",
       "      <th>year</th>\n",
       "      <th>selling_price</th>\n",
       "      <th>km_driven</th>\n",
       "      <th>fuel</th>\n",
       "      <th>seller_type</th>\n",
       "      <th>transmission</th>\n",
       "      <th>owner</th>\n",
       "      <th>mileage</th>\n",
       "      <th>engine</th>\n",
       "      <th>max_power</th>\n",
       "      <th>torque</th>\n",
       "      <th>seats</th>\n",
       "    </tr>\n",
       "  </thead>\n",
       "  <tbody>\n",
       "    <tr>\n",
       "      <th>0</th>\n",
       "      <td>Maruti Swift</td>\n",
       "      <td>2014</td>\n",
       "      <td>450000</td>\n",
       "      <td>145500</td>\n",
       "      <td>Diesel</td>\n",
       "      <td>Individual</td>\n",
       "      <td>Manual</td>\n",
       "      <td>First Owner</td>\n",
       "      <td>23.40</td>\n",
       "      <td>1248.0</td>\n",
       "      <td>74.00</td>\n",
       "      <td>190.0</td>\n",
       "      <td>5.0</td>\n",
       "    </tr>\n",
       "    <tr>\n",
       "      <th>1</th>\n",
       "      <td>Skoda Rapid</td>\n",
       "      <td>2014</td>\n",
       "      <td>370000</td>\n",
       "      <td>120000</td>\n",
       "      <td>Diesel</td>\n",
       "      <td>Individual</td>\n",
       "      <td>Manual</td>\n",
       "      <td>Second Owner</td>\n",
       "      <td>21.14</td>\n",
       "      <td>1498.0</td>\n",
       "      <td>103.52</td>\n",
       "      <td>250.0</td>\n",
       "      <td>5.0</td>\n",
       "    </tr>\n",
       "    <tr>\n",
       "      <th>2</th>\n",
       "      <td>Honda City</td>\n",
       "      <td>2006</td>\n",
       "      <td>158000</td>\n",
       "      <td>140000</td>\n",
       "      <td>Petrol</td>\n",
       "      <td>Individual</td>\n",
       "      <td>Manual</td>\n",
       "      <td>Third Owner</td>\n",
       "      <td>17.70</td>\n",
       "      <td>1497.0</td>\n",
       "      <td>78.00</td>\n",
       "      <td>12.7</td>\n",
       "      <td>5.0</td>\n",
       "    </tr>\n",
       "    <tr>\n",
       "      <th>3</th>\n",
       "      <td>Hyundai i20</td>\n",
       "      <td>2010</td>\n",
       "      <td>225000</td>\n",
       "      <td>127000</td>\n",
       "      <td>Diesel</td>\n",
       "      <td>Individual</td>\n",
       "      <td>Manual</td>\n",
       "      <td>First Owner</td>\n",
       "      <td>23.00</td>\n",
       "      <td>1396.0</td>\n",
       "      <td>90.00</td>\n",
       "      <td>22.4</td>\n",
       "      <td>5.0</td>\n",
       "    </tr>\n",
       "    <tr>\n",
       "      <th>4</th>\n",
       "      <td>Maruti Swift</td>\n",
       "      <td>2007</td>\n",
       "      <td>130000</td>\n",
       "      <td>120000</td>\n",
       "      <td>Petrol</td>\n",
       "      <td>Individual</td>\n",
       "      <td>Manual</td>\n",
       "      <td>First Owner</td>\n",
       "      <td>16.10</td>\n",
       "      <td>1298.0</td>\n",
       "      <td>88.20</td>\n",
       "      <td>11.5</td>\n",
       "      <td>5.0</td>\n",
       "    </tr>\n",
       "    <tr>\n",
       "      <th>...</th>\n",
       "      <td>...</td>\n",
       "      <td>...</td>\n",
       "      <td>...</td>\n",
       "      <td>...</td>\n",
       "      <td>...</td>\n",
       "      <td>...</td>\n",
       "      <td>...</td>\n",
       "      <td>...</td>\n",
       "      <td>...</td>\n",
       "      <td>...</td>\n",
       "      <td>...</td>\n",
       "      <td>...</td>\n",
       "      <td>...</td>\n",
       "    </tr>\n",
       "    <tr>\n",
       "      <th>8118</th>\n",
       "      <td>Hyundai i20</td>\n",
       "      <td>2013</td>\n",
       "      <td>320000</td>\n",
       "      <td>110000</td>\n",
       "      <td>Petrol</td>\n",
       "      <td>Individual</td>\n",
       "      <td>Manual</td>\n",
       "      <td>First Owner</td>\n",
       "      <td>18.50</td>\n",
       "      <td>1197.0</td>\n",
       "      <td>82.85</td>\n",
       "      <td>113.7</td>\n",
       "      <td>5.0</td>\n",
       "    </tr>\n",
       "    <tr>\n",
       "      <th>8119</th>\n",
       "      <td>Hyundai Verna</td>\n",
       "      <td>2007</td>\n",
       "      <td>135000</td>\n",
       "      <td>119000</td>\n",
       "      <td>Diesel</td>\n",
       "      <td>Individual</td>\n",
       "      <td>Manual</td>\n",
       "      <td>Fourth &amp; Above Owner</td>\n",
       "      <td>16.80</td>\n",
       "      <td>1493.0</td>\n",
       "      <td>110.00</td>\n",
       "      <td>24.0</td>\n",
       "      <td>5.0</td>\n",
       "    </tr>\n",
       "    <tr>\n",
       "      <th>8120</th>\n",
       "      <td>Maruti Swift</td>\n",
       "      <td>2009</td>\n",
       "      <td>382000</td>\n",
       "      <td>120000</td>\n",
       "      <td>Diesel</td>\n",
       "      <td>Individual</td>\n",
       "      <td>Manual</td>\n",
       "      <td>First Owner</td>\n",
       "      <td>19.30</td>\n",
       "      <td>1248.0</td>\n",
       "      <td>73.90</td>\n",
       "      <td>190.0</td>\n",
       "      <td>5.0</td>\n",
       "    </tr>\n",
       "    <tr>\n",
       "      <th>8121</th>\n",
       "      <td>Tata Indigo</td>\n",
       "      <td>2013</td>\n",
       "      <td>290000</td>\n",
       "      <td>25000</td>\n",
       "      <td>Diesel</td>\n",
       "      <td>Individual</td>\n",
       "      <td>Manual</td>\n",
       "      <td>First Owner</td>\n",
       "      <td>23.57</td>\n",
       "      <td>1396.0</td>\n",
       "      <td>70.00</td>\n",
       "      <td>140.0</td>\n",
       "      <td>5.0</td>\n",
       "    </tr>\n",
       "    <tr>\n",
       "      <th>8122</th>\n",
       "      <td>Tata Indigo</td>\n",
       "      <td>2013</td>\n",
       "      <td>290000</td>\n",
       "      <td>25000</td>\n",
       "      <td>Diesel</td>\n",
       "      <td>Individual</td>\n",
       "      <td>Manual</td>\n",
       "      <td>First Owner</td>\n",
       "      <td>23.57</td>\n",
       "      <td>1396.0</td>\n",
       "      <td>70.00</td>\n",
       "      <td>140.0</td>\n",
       "      <td>5.0</td>\n",
       "    </tr>\n",
       "  </tbody>\n",
       "</table>\n",
       "<p>8123 rows × 13 columns</p>\n",
       "</div>"
      ],
      "text/plain": [
       "               name  year  selling_price  km_driven    fuel seller_type  \\\n",
       "0      Maruti Swift  2014         450000     145500  Diesel  Individual   \n",
       "1       Skoda Rapid  2014         370000     120000  Diesel  Individual   \n",
       "2        Honda City  2006         158000     140000  Petrol  Individual   \n",
       "3       Hyundai i20  2010         225000     127000  Diesel  Individual   \n",
       "4      Maruti Swift  2007         130000     120000  Petrol  Individual   \n",
       "...             ...   ...            ...        ...     ...         ...   \n",
       "8118    Hyundai i20  2013         320000     110000  Petrol  Individual   \n",
       "8119  Hyundai Verna  2007         135000     119000  Diesel  Individual   \n",
       "8120   Maruti Swift  2009         382000     120000  Diesel  Individual   \n",
       "8121    Tata Indigo  2013         290000      25000  Diesel  Individual   \n",
       "8122    Tata Indigo  2013         290000      25000  Diesel  Individual   \n",
       "\n",
       "     transmission                 owner  mileage  engine  max_power  torque  \\\n",
       "0          Manual           First Owner    23.40  1248.0      74.00   190.0   \n",
       "1          Manual          Second Owner    21.14  1498.0     103.52   250.0   \n",
       "2          Manual           Third Owner    17.70  1497.0      78.00    12.7   \n",
       "3          Manual           First Owner    23.00  1396.0      90.00    22.4   \n",
       "4          Manual           First Owner    16.10  1298.0      88.20    11.5   \n",
       "...           ...                   ...      ...     ...        ...     ...   \n",
       "8118       Manual           First Owner    18.50  1197.0      82.85   113.7   \n",
       "8119       Manual  Fourth & Above Owner    16.80  1493.0     110.00    24.0   \n",
       "8120       Manual           First Owner    19.30  1248.0      73.90   190.0   \n",
       "8121       Manual           First Owner    23.57  1396.0      70.00   140.0   \n",
       "8122       Manual           First Owner    23.57  1396.0      70.00   140.0   \n",
       "\n",
       "      seats  \n",
       "0       5.0  \n",
       "1       5.0  \n",
       "2       5.0  \n",
       "3       5.0  \n",
       "4       5.0  \n",
       "...     ...  \n",
       "8118    5.0  \n",
       "8119    5.0  \n",
       "8120    5.0  \n",
       "8121    5.0  \n",
       "8122    5.0  \n",
       "\n",
       "[8123 rows x 13 columns]"
      ]
     },
     "execution_count": 36,
     "metadata": {},
     "output_type": "execute_result"
    }
   ],
   "source": [
    "df"
   ]
  },
  {
   "cell_type": "code",
   "execution_count": 37,
   "id": "e59d9aa6",
   "metadata": {},
   "outputs": [],
   "source": [
    "#Handling outliers in specific columns of a DataFrame \n",
    "\n",
    "for column in df[[\"selling_price\",\"km_driven\",\"mileage\",\"engine\",\"max_power\",\"torque\",\"seats\"]]:\n",
    "\n",
    "    # Calculate the first quartile (Q1) and third quartile (Q3)\n",
    "    q1, q3 = np.percentile(df[column], [25, 75])\n",
    "\n",
    "    # Calculate the interquartile range (IQR)\n",
    "    iqr = q3 - q1\n",
    "\n",
    "    # Set the lower and upper bounds for outliers\n",
    "    lower_bound = q1 - 1.5 * iqr\n",
    "    upper_bound = q3 + 1.5 * iqr\n",
    "\n",
    "    # Replace outliers with the median value (Q2)\n",
    "    df[column] = np.where((df[column] < lower_bound) | (df[column] > upper_bound), np.median(df[column]), df[column])"
   ]
  },
  {
   "cell_type": "code",
   "execution_count": 38,
   "id": "a69e79bb",
   "metadata": {
    "scrolled": true
   },
   "outputs": [
    {
     "data": {
      "text/plain": [
       "array(['Individual', 'Dealer', 'Trustmark Dealer'], dtype=object)"
      ]
     },
     "execution_count": 38,
     "metadata": {},
     "output_type": "execute_result"
    }
   ],
   "source": [
    "#Cheacking seller_type\n",
    "\n",
    "df[\"seller_type\"].unique()"
   ]
  },
  {
   "cell_type": "markdown",
   "id": "4e91ffab",
   "metadata": {},
   "source": [
    "Splitting the Data into Training data and Test Data "
   ]
  },
  {
   "cell_type": "code",
   "execution_count": 39,
   "id": "aabce54c",
   "metadata": {},
   "outputs": [],
   "source": [
    "# Separate features and target variable\n",
    "X=df.drop(['name',\"selling_price\"],axis=1)\n",
    "y=df[\"selling_price\"]\n"
   ]
  },
  {
   "cell_type": "code",
   "execution_count": 40,
   "id": "82de0549",
   "metadata": {},
   "outputs": [],
   "source": [
    "df.reset_index(inplace=True , drop= True)"
   ]
  },
  {
   "cell_type": "code",
   "execution_count": 41,
   "id": "cd5e5a78",
   "metadata": {},
   "outputs": [],
   "source": [
    "X_train, X_test, y_train, y_test = train_test_split(X, y, test_size=0.20, random_state=42, shuffle =True)\n",
    "kf= KFold(n_splits = 6, shuffle = True, random_state=42)"
   ]
  },
  {
   "cell_type": "code",
   "execution_count": 42,
   "id": "e9f87da2",
   "metadata": {},
   "outputs": [
    {
     "data": {
      "text/plain": [
       "array(['Manual', 'Automatic'], dtype=object)"
      ]
     },
     "execution_count": 42,
     "metadata": {},
     "output_type": "execute_result"
    }
   ],
   "source": [
    "X_train[\"transmission\"].unique()"
   ]
  },
  {
   "cell_type": "code",
   "execution_count": 43,
   "id": "2bbf1cc9",
   "metadata": {},
   "outputs": [],
   "source": [
    "#Encoding Categorical data\n",
    "mapping = {\n",
    "    'Fourth & Above Owner': 1,\n",
    "    'Third Owner': 2,\n",
    "    'Second Owner': 3,\n",
    "    'First Owner': 4\n",
    "}\n",
    "\n",
    "X_train['owner'] = X_train['owner'].map(mapping)\n",
    "X_test['owner'] = X_test['owner'].map(mapping)"
   ]
  },
  {
   "cell_type": "code",
   "execution_count": 44,
   "id": "dfa67752",
   "metadata": {},
   "outputs": [],
   "source": [
    "mapping = {\n",
    "    'Manual': 0,\n",
    "    'Automatic' :1,\n",
    "}\n",
    "X_train['transmission'] = X_train['transmission'].map(mapping)\n",
    "X_test['transmission'] = X_test['transmission'].map(mapping)"
   ]
  },
  {
   "cell_type": "code",
   "execution_count": 45,
   "id": "0ee03ba7",
   "metadata": {},
   "outputs": [],
   "source": [
    "encoder = ce.OneHotEncoder(cols=[\"seller_type\",\"fuel\"])\n",
    "x_train_encoding=encoder.fit_transform(X_train)\n",
    "x_test_encoding=encoder.transform(X_test)"
   ]
  },
  {
   "cell_type": "code",
   "execution_count": 46,
   "id": "f6f8bef4",
   "metadata": {},
   "outputs": [],
   "source": [
    "scaler = StandardScaler()\n",
    "\n",
    "# Fit and transform the specified columns\n",
    "x_train = scaler.fit_transform(x_train_encoding)\n",
    "x_test = scaler.transform(x_test_encoding)"
   ]
  },
  {
   "cell_type": "code",
   "execution_count": 47,
   "id": "8addee86",
   "metadata": {},
   "outputs": [],
   "source": [
    "\n",
    "# Assuming x_train, x_test are arrays and x_train_encoding, x_test_encoding are DataFrames with columns\n",
    "train_data = pd.DataFrame(x_train, columns=x_train_encoding.columns)\n",
    "test_data = pd.DataFrame(x_test, columns=x_test_encoding.columns)"
   ]
  },
  {
   "cell_type": "code",
   "execution_count": 48,
   "id": "a061f99e",
   "metadata": {},
   "outputs": [
    {
     "data": {
      "text/html": [
       "<div>\n",
       "<style scoped>\n",
       "    .dataframe tbody tr th:only-of-type {\n",
       "        vertical-align: middle;\n",
       "    }\n",
       "\n",
       "    .dataframe tbody tr th {\n",
       "        vertical-align: top;\n",
       "    }\n",
       "\n",
       "    .dataframe thead th {\n",
       "        text-align: right;\n",
       "    }\n",
       "</style>\n",
       "<table border=\"1\" class=\"dataframe\">\n",
       "  <thead>\n",
       "    <tr style=\"text-align: right;\">\n",
       "      <th></th>\n",
       "      <th>year</th>\n",
       "      <th>km_driven</th>\n",
       "      <th>fuel_1</th>\n",
       "      <th>fuel_2</th>\n",
       "      <th>fuel_3</th>\n",
       "      <th>fuel_4</th>\n",
       "      <th>seller_type_1</th>\n",
       "      <th>seller_type_2</th>\n",
       "      <th>seller_type_3</th>\n",
       "      <th>transmission</th>\n",
       "      <th>owner</th>\n",
       "      <th>mileage</th>\n",
       "      <th>engine</th>\n",
       "      <th>max_power</th>\n",
       "      <th>torque</th>\n",
       "      <th>seats</th>\n",
       "    </tr>\n",
       "  </thead>\n",
       "  <tbody>\n",
       "    <tr>\n",
       "      <th>0</th>\n",
       "      <td>0.792561</td>\n",
       "      <td>-0.400133</td>\n",
       "      <td>0.915811</td>\n",
       "      <td>-0.892478</td>\n",
       "      <td>-0.074639</td>\n",
       "      <td>-0.085356</td>\n",
       "      <td>0.443989</td>\n",
       "      <td>-0.399152</td>\n",
       "      <td>-0.167338</td>\n",
       "      <td>-0.385045</td>\n",
       "      <td>0.641861</td>\n",
       "      <td>1.254616</td>\n",
       "      <td>-0.109711</td>\n",
       "      <td>0.202793</td>\n",
       "      <td>0.630177</td>\n",
       "      <td>0.0</td>\n",
       "    </tr>\n",
       "    <tr>\n",
       "      <th>1</th>\n",
       "      <td>0.298503</td>\n",
       "      <td>0.612580</td>\n",
       "      <td>0.915811</td>\n",
       "      <td>-0.892478</td>\n",
       "      <td>-0.074639</td>\n",
       "      <td>-0.085356</td>\n",
       "      <td>0.443989</td>\n",
       "      <td>-0.399152</td>\n",
       "      <td>-0.167338</td>\n",
       "      <td>-0.385045</td>\n",
       "      <td>0.641861</td>\n",
       "      <td>-1.678089</td>\n",
       "      <td>-0.109711</td>\n",
       "      <td>0.744727</td>\n",
       "      <td>0.630177</td>\n",
       "      <td>0.0</td>\n",
       "    </tr>\n",
       "    <tr>\n",
       "      <th>2</th>\n",
       "      <td>-0.195555</td>\n",
       "      <td>0.359402</td>\n",
       "      <td>-1.091928</td>\n",
       "      <td>1.120476</td>\n",
       "      <td>-0.074639</td>\n",
       "      <td>-0.085356</td>\n",
       "      <td>0.443989</td>\n",
       "      <td>-0.399152</td>\n",
       "      <td>-0.167338</td>\n",
       "      <td>-0.385045</td>\n",
       "      <td>-0.771974</td>\n",
       "      <td>-0.015963</td>\n",
       "      <td>-0.298950</td>\n",
       "      <td>0.126654</td>\n",
       "      <td>-0.612217</td>\n",
       "      <td>0.0</td>\n",
       "    </tr>\n",
       "    <tr>\n",
       "      <th>3</th>\n",
       "      <td>1.039590</td>\n",
       "      <td>-1.159668</td>\n",
       "      <td>-1.091928</td>\n",
       "      <td>1.120476</td>\n",
       "      <td>-0.074639</td>\n",
       "      <td>-0.085356</td>\n",
       "      <td>0.443989</td>\n",
       "      <td>-0.399152</td>\n",
       "      <td>-0.167338</td>\n",
       "      <td>-0.385045</td>\n",
       "      <td>0.641861</td>\n",
       "      <td>0.271862</td>\n",
       "      <td>-1.055907</td>\n",
       "      <td>-0.758354</td>\n",
       "      <td>-0.871617</td>\n",
       "      <td>0.0</td>\n",
       "    </tr>\n",
       "    <tr>\n",
       "      <th>4</th>\n",
       "      <td>-0.195555</td>\n",
       "      <td>1.372115</td>\n",
       "      <td>0.915811</td>\n",
       "      <td>-0.892478</td>\n",
       "      <td>-0.074639</td>\n",
       "      <td>-0.085356</td>\n",
       "      <td>0.443989</td>\n",
       "      <td>-0.399152</td>\n",
       "      <td>-0.167338</td>\n",
       "      <td>-0.385045</td>\n",
       "      <td>-0.771974</td>\n",
       "      <td>1.021245</td>\n",
       "      <td>-0.109711</td>\n",
       "      <td>-0.446631</td>\n",
       "      <td>0.493650</td>\n",
       "      <td>0.0</td>\n",
       "    </tr>\n",
       "    <tr>\n",
       "      <th>...</th>\n",
       "      <td>...</td>\n",
       "      <td>...</td>\n",
       "      <td>...</td>\n",
       "      <td>...</td>\n",
       "      <td>...</td>\n",
       "      <td>...</td>\n",
       "      <td>...</td>\n",
       "      <td>...</td>\n",
       "      <td>...</td>\n",
       "      <td>...</td>\n",
       "      <td>...</td>\n",
       "      <td>...</td>\n",
       "      <td>...</td>\n",
       "      <td>...</td>\n",
       "      <td>...</td>\n",
       "      <td>...</td>\n",
       "    </tr>\n",
       "    <tr>\n",
       "      <th>6493</th>\n",
       "      <td>0.051474</td>\n",
       "      <td>-0.703947</td>\n",
       "      <td>0.915811</td>\n",
       "      <td>-0.892478</td>\n",
       "      <td>-0.074639</td>\n",
       "      <td>-0.085356</td>\n",
       "      <td>0.443989</td>\n",
       "      <td>-0.399152</td>\n",
       "      <td>-0.167338</td>\n",
       "      <td>-0.385045</td>\n",
       "      <td>0.641861</td>\n",
       "      <td>-1.434345</td>\n",
       "      <td>-0.109711</td>\n",
       "      <td>2.421137</td>\n",
       "      <td>2.268498</td>\n",
       "      <td>0.0</td>\n",
       "    </tr>\n",
       "    <tr>\n",
       "      <th>6494</th>\n",
       "      <td>-0.442584</td>\n",
       "      <td>0.764487</td>\n",
       "      <td>0.915811</td>\n",
       "      <td>-0.892478</td>\n",
       "      <td>-0.074639</td>\n",
       "      <td>-0.085356</td>\n",
       "      <td>-2.252309</td>\n",
       "      <td>2.505314</td>\n",
       "      <td>-0.167338</td>\n",
       "      <td>2.597101</td>\n",
       "      <td>-0.771974</td>\n",
       "      <td>0.041083</td>\n",
       "      <td>2.728874</td>\n",
       "      <td>-0.039061</td>\n",
       "      <td>0.084070</td>\n",
       "      <td>0.0</td>\n",
       "    </tr>\n",
       "    <tr>\n",
       "      <th>6495</th>\n",
       "      <td>0.545532</td>\n",
       "      <td>-0.779901</td>\n",
       "      <td>-1.091928</td>\n",
       "      <td>1.120476</td>\n",
       "      <td>-0.074639</td>\n",
       "      <td>-0.085356</td>\n",
       "      <td>0.443989</td>\n",
       "      <td>-0.399152</td>\n",
       "      <td>-0.167338</td>\n",
       "      <td>-0.385045</td>\n",
       "      <td>0.641861</td>\n",
       "      <td>-0.223405</td>\n",
       "      <td>-0.302735</td>\n",
       "      <td>-0.095942</td>\n",
       "      <td>-0.534396</td>\n",
       "      <td>0.0</td>\n",
       "    </tr>\n",
       "    <tr>\n",
       "      <th>6496</th>\n",
       "      <td>1.286619</td>\n",
       "      <td>-0.762178</td>\n",
       "      <td>0.915811</td>\n",
       "      <td>-0.892478</td>\n",
       "      <td>-0.074639</td>\n",
       "      <td>-0.085356</td>\n",
       "      <td>-2.252309</td>\n",
       "      <td>2.505314</td>\n",
       "      <td>-0.167338</td>\n",
       "      <td>-0.385045</td>\n",
       "      <td>0.641861</td>\n",
       "      <td>2.317755</td>\n",
       "      <td>-0.109711</td>\n",
       "      <td>-0.445735</td>\n",
       "      <td>0.493650</td>\n",
       "      <td>0.0</td>\n",
       "    </tr>\n",
       "    <tr>\n",
       "      <th>6497</th>\n",
       "      <td>-1.183671</td>\n",
       "      <td>-0.071002</td>\n",
       "      <td>-1.091928</td>\n",
       "      <td>1.120476</td>\n",
       "      <td>-0.074639</td>\n",
       "      <td>-0.085356</td>\n",
       "      <td>0.443989</td>\n",
       "      <td>-0.399152</td>\n",
       "      <td>-0.167338</td>\n",
       "      <td>-0.385045</td>\n",
       "      <td>-2.185808</td>\n",
       "      <td>-0.010681</td>\n",
       "      <td>-0.109711</td>\n",
       "      <td>0.339067</td>\n",
       "      <td>0.196370</td>\n",
       "      <td>0.0</td>\n",
       "    </tr>\n",
       "  </tbody>\n",
       "</table>\n",
       "<p>6498 rows × 16 columns</p>\n",
       "</div>"
      ],
      "text/plain": [
       "          year  km_driven    fuel_1    fuel_2    fuel_3    fuel_4  \\\n",
       "0     0.792561  -0.400133  0.915811 -0.892478 -0.074639 -0.085356   \n",
       "1     0.298503   0.612580  0.915811 -0.892478 -0.074639 -0.085356   \n",
       "2    -0.195555   0.359402 -1.091928  1.120476 -0.074639 -0.085356   \n",
       "3     1.039590  -1.159668 -1.091928  1.120476 -0.074639 -0.085356   \n",
       "4    -0.195555   1.372115  0.915811 -0.892478 -0.074639 -0.085356   \n",
       "...        ...        ...       ...       ...       ...       ...   \n",
       "6493  0.051474  -0.703947  0.915811 -0.892478 -0.074639 -0.085356   \n",
       "6494 -0.442584   0.764487  0.915811 -0.892478 -0.074639 -0.085356   \n",
       "6495  0.545532  -0.779901 -1.091928  1.120476 -0.074639 -0.085356   \n",
       "6496  1.286619  -0.762178  0.915811 -0.892478 -0.074639 -0.085356   \n",
       "6497 -1.183671  -0.071002 -1.091928  1.120476 -0.074639 -0.085356   \n",
       "\n",
       "      seller_type_1  seller_type_2  seller_type_3  transmission     owner  \\\n",
       "0          0.443989      -0.399152      -0.167338     -0.385045  0.641861   \n",
       "1          0.443989      -0.399152      -0.167338     -0.385045  0.641861   \n",
       "2          0.443989      -0.399152      -0.167338     -0.385045 -0.771974   \n",
       "3          0.443989      -0.399152      -0.167338     -0.385045  0.641861   \n",
       "4          0.443989      -0.399152      -0.167338     -0.385045 -0.771974   \n",
       "...             ...            ...            ...           ...       ...   \n",
       "6493       0.443989      -0.399152      -0.167338     -0.385045  0.641861   \n",
       "6494      -2.252309       2.505314      -0.167338      2.597101 -0.771974   \n",
       "6495       0.443989      -0.399152      -0.167338     -0.385045  0.641861   \n",
       "6496      -2.252309       2.505314      -0.167338     -0.385045  0.641861   \n",
       "6497       0.443989      -0.399152      -0.167338     -0.385045 -2.185808   \n",
       "\n",
       "       mileage    engine  max_power    torque  seats  \n",
       "0     1.254616 -0.109711   0.202793  0.630177    0.0  \n",
       "1    -1.678089 -0.109711   0.744727  0.630177    0.0  \n",
       "2    -0.015963 -0.298950   0.126654 -0.612217    0.0  \n",
       "3     0.271862 -1.055907  -0.758354 -0.871617    0.0  \n",
       "4     1.021245 -0.109711  -0.446631  0.493650    0.0  \n",
       "...        ...       ...        ...       ...    ...  \n",
       "6493 -1.434345 -0.109711   2.421137  2.268498    0.0  \n",
       "6494  0.041083  2.728874  -0.039061  0.084070    0.0  \n",
       "6495 -0.223405 -0.302735  -0.095942 -0.534396    0.0  \n",
       "6496  2.317755 -0.109711  -0.445735  0.493650    0.0  \n",
       "6497 -0.010681 -0.109711   0.339067  0.196370    0.0  \n",
       "\n",
       "[6498 rows x 16 columns]"
      ]
     },
     "execution_count": 48,
     "metadata": {},
     "output_type": "execute_result"
    }
   ],
   "source": [
    "train_data"
   ]
  },
  {
   "cell_type": "code",
   "execution_count": 49,
   "id": "3f79870b",
   "metadata": {},
   "outputs": [
    {
     "data": {
      "text/html": [
       "<div>\n",
       "<style scoped>\n",
       "    .dataframe tbody tr th:only-of-type {\n",
       "        vertical-align: middle;\n",
       "    }\n",
       "\n",
       "    .dataframe tbody tr th {\n",
       "        vertical-align: top;\n",
       "    }\n",
       "\n",
       "    .dataframe thead th {\n",
       "        text-align: right;\n",
       "    }\n",
       "</style>\n",
       "<table border=\"1\" class=\"dataframe\">\n",
       "  <thead>\n",
       "    <tr style=\"text-align: right;\">\n",
       "      <th></th>\n",
       "      <th>year</th>\n",
       "      <th>km_driven</th>\n",
       "      <th>fuel_1</th>\n",
       "      <th>fuel_2</th>\n",
       "      <th>fuel_3</th>\n",
       "      <th>fuel_4</th>\n",
       "      <th>seller_type_1</th>\n",
       "      <th>seller_type_2</th>\n",
       "      <th>seller_type_3</th>\n",
       "      <th>transmission</th>\n",
       "      <th>owner</th>\n",
       "      <th>mileage</th>\n",
       "      <th>engine</th>\n",
       "      <th>max_power</th>\n",
       "      <th>torque</th>\n",
       "      <th>seats</th>\n",
       "    </tr>\n",
       "  </thead>\n",
       "  <tbody>\n",
       "    <tr>\n",
       "      <th>0</th>\n",
       "      <td>-2.418816</td>\n",
       "      <td>1.118936</td>\n",
       "      <td>-1.091928</td>\n",
       "      <td>1.120476</td>\n",
       "      <td>-0.074639</td>\n",
       "      <td>-0.085356</td>\n",
       "      <td>0.443989</td>\n",
       "      <td>-0.399152</td>\n",
       "      <td>-0.167338</td>\n",
       "      <td>-0.385045</td>\n",
       "      <td>-2.185808</td>\n",
       "      <td>-1.727356</td>\n",
       "      <td>0.817560</td>\n",
       "      <td>0.717854</td>\n",
       "      <td>-1.921508</td>\n",
       "      <td>0.0</td>\n",
       "    </tr>\n",
       "    <tr>\n",
       "      <th>1</th>\n",
       "      <td>0.545532</td>\n",
       "      <td>0.865758</td>\n",
       "      <td>0.915811</td>\n",
       "      <td>-0.892478</td>\n",
       "      <td>-0.074639</td>\n",
       "      <td>-0.085356</td>\n",
       "      <td>0.443989</td>\n",
       "      <td>-0.399152</td>\n",
       "      <td>-0.167338</td>\n",
       "      <td>-0.385045</td>\n",
       "      <td>0.641861</td>\n",
       "      <td>2.027336</td>\n",
       "      <td>-0.870452</td>\n",
       "      <td>-0.670570</td>\n",
       "      <td>-0.188984</td>\n",
       "      <td>0.0</td>\n",
       "    </tr>\n",
       "    <tr>\n",
       "      <th>2</th>\n",
       "      <td>0.545532</td>\n",
       "      <td>0.106223</td>\n",
       "      <td>0.915811</td>\n",
       "      <td>-0.892478</td>\n",
       "      <td>-0.074639</td>\n",
       "      <td>-0.085356</td>\n",
       "      <td>0.443989</td>\n",
       "      <td>-0.399152</td>\n",
       "      <td>-0.167338</td>\n",
       "      <td>-0.385045</td>\n",
       "      <td>0.641861</td>\n",
       "      <td>0.969384</td>\n",
       "      <td>-0.109711</td>\n",
       "      <td>-0.449318</td>\n",
       "      <td>0.493650</td>\n",
       "      <td>0.0</td>\n",
       "    </tr>\n",
       "    <tr>\n",
       "      <th>3</th>\n",
       "      <td>0.051474</td>\n",
       "      <td>0.359402</td>\n",
       "      <td>0.915811</td>\n",
       "      <td>-0.892478</td>\n",
       "      <td>-0.074639</td>\n",
       "      <td>-0.085356</td>\n",
       "      <td>0.443989</td>\n",
       "      <td>-0.399152</td>\n",
       "      <td>-0.167338</td>\n",
       "      <td>-0.385045</td>\n",
       "      <td>0.641861</td>\n",
       "      <td>-0.117091</td>\n",
       "      <td>0.696447</td>\n",
       "      <td>1.096311</td>\n",
       "      <td>1.285505</td>\n",
       "      <td>0.0</td>\n",
       "    </tr>\n",
       "    <tr>\n",
       "      <th>4</th>\n",
       "      <td>-2.418816</td>\n",
       "      <td>1.118936</td>\n",
       "      <td>-1.091928</td>\n",
       "      <td>1.120476</td>\n",
       "      <td>-0.074639</td>\n",
       "      <td>-0.085356</td>\n",
       "      <td>0.443989</td>\n",
       "      <td>-0.399152</td>\n",
       "      <td>-0.167338</td>\n",
       "      <td>-0.385045</td>\n",
       "      <td>-0.771974</td>\n",
       "      <td>-1.312473</td>\n",
       "      <td>1.218746</td>\n",
       "      <td>0.449127</td>\n",
       "      <td>-1.929700</td>\n",
       "      <td>0.0</td>\n",
       "    </tr>\n",
       "    <tr>\n",
       "      <th>...</th>\n",
       "      <td>...</td>\n",
       "      <td>...</td>\n",
       "      <td>...</td>\n",
       "      <td>...</td>\n",
       "      <td>...</td>\n",
       "      <td>...</td>\n",
       "      <td>...</td>\n",
       "      <td>...</td>\n",
       "      <td>...</td>\n",
       "      <td>...</td>\n",
       "      <td>...</td>\n",
       "      <td>...</td>\n",
       "      <td>...</td>\n",
       "      <td>...</td>\n",
       "      <td>...</td>\n",
       "      <td>...</td>\n",
       "    </tr>\n",
       "    <tr>\n",
       "      <th>1620</th>\n",
       "      <td>0.051474</td>\n",
       "      <td>2.011162</td>\n",
       "      <td>0.915811</td>\n",
       "      <td>-0.892478</td>\n",
       "      <td>-0.074639</td>\n",
       "      <td>-0.085356</td>\n",
       "      <td>0.443989</td>\n",
       "      <td>-0.399152</td>\n",
       "      <td>-0.167338</td>\n",
       "      <td>-0.385045</td>\n",
       "      <td>0.641861</td>\n",
       "      <td>-1.921833</td>\n",
       "      <td>-0.109711</td>\n",
       "      <td>1.613611</td>\n",
       "      <td>1.858918</td>\n",
       "      <td>0.0</td>\n",
       "    </tr>\n",
       "    <tr>\n",
       "      <th>1621</th>\n",
       "      <td>1.286619</td>\n",
       "      <td>-1.450823</td>\n",
       "      <td>0.915811</td>\n",
       "      <td>-0.892478</td>\n",
       "      <td>-0.074639</td>\n",
       "      <td>-0.085356</td>\n",
       "      <td>-2.252309</td>\n",
       "      <td>2.505314</td>\n",
       "      <td>-0.167338</td>\n",
       "      <td>2.597101</td>\n",
       "      <td>0.641861</td>\n",
       "      <td>-0.695334</td>\n",
       "      <td>2.717519</td>\n",
       "      <td>-0.039061</td>\n",
       "      <td>0.084070</td>\n",
       "      <td>0.0</td>\n",
       "    </tr>\n",
       "    <tr>\n",
       "      <th>1622</th>\n",
       "      <td>0.792561</td>\n",
       "      <td>-0.653312</td>\n",
       "      <td>-1.091928</td>\n",
       "      <td>1.120476</td>\n",
       "      <td>-0.074639</td>\n",
       "      <td>-0.085356</td>\n",
       "      <td>0.443989</td>\n",
       "      <td>-0.399152</td>\n",
       "      <td>-0.167338</td>\n",
       "      <td>-0.385045</td>\n",
       "      <td>0.641861</td>\n",
       "      <td>0.370397</td>\n",
       "      <td>-0.302735</td>\n",
       "      <td>-0.097285</td>\n",
       "      <td>-0.557606</td>\n",
       "      <td>0.0</td>\n",
       "    </tr>\n",
       "    <tr>\n",
       "      <th>1623</th>\n",
       "      <td>0.792561</td>\n",
       "      <td>-1.286257</td>\n",
       "      <td>-1.091928</td>\n",
       "      <td>1.120476</td>\n",
       "      <td>-0.074639</td>\n",
       "      <td>-0.085356</td>\n",
       "      <td>0.443989</td>\n",
       "      <td>-0.399152</td>\n",
       "      <td>-0.167338</td>\n",
       "      <td>2.597101</td>\n",
       "      <td>0.641861</td>\n",
       "      <td>-0.635695</td>\n",
       "      <td>1.188468</td>\n",
       "      <td>1.671836</td>\n",
       "      <td>0.014441</td>\n",
       "      <td>0.0</td>\n",
       "    </tr>\n",
       "    <tr>\n",
       "      <th>1624</th>\n",
       "      <td>0.051474</td>\n",
       "      <td>-0.653312</td>\n",
       "      <td>-1.091928</td>\n",
       "      <td>1.120476</td>\n",
       "      <td>-0.074639</td>\n",
       "      <td>-0.085356</td>\n",
       "      <td>0.443989</td>\n",
       "      <td>-0.399152</td>\n",
       "      <td>-0.167338</td>\n",
       "      <td>-0.385045</td>\n",
       "      <td>-0.771974</td>\n",
       "      <td>0.378176</td>\n",
       "      <td>-1.055907</td>\n",
       "      <td>-0.755667</td>\n",
       "      <td>-0.871617</td>\n",
       "      <td>0.0</td>\n",
       "    </tr>\n",
       "  </tbody>\n",
       "</table>\n",
       "<p>1625 rows × 16 columns</p>\n",
       "</div>"
      ],
      "text/plain": [
       "          year  km_driven    fuel_1    fuel_2    fuel_3    fuel_4  \\\n",
       "0    -2.418816   1.118936 -1.091928  1.120476 -0.074639 -0.085356   \n",
       "1     0.545532   0.865758  0.915811 -0.892478 -0.074639 -0.085356   \n",
       "2     0.545532   0.106223  0.915811 -0.892478 -0.074639 -0.085356   \n",
       "3     0.051474   0.359402  0.915811 -0.892478 -0.074639 -0.085356   \n",
       "4    -2.418816   1.118936 -1.091928  1.120476 -0.074639 -0.085356   \n",
       "...        ...        ...       ...       ...       ...       ...   \n",
       "1620  0.051474   2.011162  0.915811 -0.892478 -0.074639 -0.085356   \n",
       "1621  1.286619  -1.450823  0.915811 -0.892478 -0.074639 -0.085356   \n",
       "1622  0.792561  -0.653312 -1.091928  1.120476 -0.074639 -0.085356   \n",
       "1623  0.792561  -1.286257 -1.091928  1.120476 -0.074639 -0.085356   \n",
       "1624  0.051474  -0.653312 -1.091928  1.120476 -0.074639 -0.085356   \n",
       "\n",
       "      seller_type_1  seller_type_2  seller_type_3  transmission     owner  \\\n",
       "0          0.443989      -0.399152      -0.167338     -0.385045 -2.185808   \n",
       "1          0.443989      -0.399152      -0.167338     -0.385045  0.641861   \n",
       "2          0.443989      -0.399152      -0.167338     -0.385045  0.641861   \n",
       "3          0.443989      -0.399152      -0.167338     -0.385045  0.641861   \n",
       "4          0.443989      -0.399152      -0.167338     -0.385045 -0.771974   \n",
       "...             ...            ...            ...           ...       ...   \n",
       "1620       0.443989      -0.399152      -0.167338     -0.385045  0.641861   \n",
       "1621      -2.252309       2.505314      -0.167338      2.597101  0.641861   \n",
       "1622       0.443989      -0.399152      -0.167338     -0.385045  0.641861   \n",
       "1623       0.443989      -0.399152      -0.167338      2.597101  0.641861   \n",
       "1624       0.443989      -0.399152      -0.167338     -0.385045 -0.771974   \n",
       "\n",
       "       mileage    engine  max_power    torque  seats  \n",
       "0    -1.727356  0.817560   0.717854 -1.921508    0.0  \n",
       "1     2.027336 -0.870452  -0.670570 -0.188984    0.0  \n",
       "2     0.969384 -0.109711  -0.449318  0.493650    0.0  \n",
       "3    -0.117091  0.696447   1.096311  1.285505    0.0  \n",
       "4    -1.312473  1.218746   0.449127 -1.929700    0.0  \n",
       "...        ...       ...        ...       ...    ...  \n",
       "1620 -1.921833 -0.109711   1.613611  1.858918    0.0  \n",
       "1621 -0.695334  2.717519  -0.039061  0.084070    0.0  \n",
       "1622  0.370397 -0.302735  -0.097285 -0.557606    0.0  \n",
       "1623 -0.635695  1.188468   1.671836  0.014441    0.0  \n",
       "1624  0.378176 -1.055907  -0.755667 -0.871617    0.0  \n",
       "\n",
       "[1625 rows x 16 columns]"
      ]
     },
     "execution_count": 49,
     "metadata": {},
     "output_type": "execute_result"
    }
   ],
   "source": [
    "test_data"
   ]
  },
  {
   "cell_type": "markdown",
   "id": "37e3049c",
   "metadata": {},
   "source": [
    "Model Training"
   ]
  },
  {
   "cell_type": "markdown",
   "id": "f5ed2966",
   "metadata": {},
   "source": [
    " 1.Linear Regression  "
   ]
  },
  {
   "cell_type": "code",
   "execution_count": 50,
   "id": "7249147c",
   "metadata": {},
   "outputs": [
    {
     "data": {
      "text/plain": [
       "array([168199.29091144, 154053.04634148, 158813.7661293 , 166611.90410205,\n",
       "       158593.40013111, 157623.29905607])"
      ]
     },
     "execution_count": 50,
     "metadata": {},
     "output_type": "execute_result"
    }
   ],
   "source": [
    "#Loading the linear regression model\n",
    "lin_reg_model= LinearRegression()\n",
    "lin_reg_cv= cross_val_score(lin_reg_model, train_data, y_train, cv=kf, scoring=\"neg_mean_squared_error\")\n",
    "lin_reg_rmse = np.sqrt(-lin_reg_cv)\n",
    "lin_reg_rmse"
   ]
  },
  {
   "cell_type": "code",
   "execution_count": 51,
   "id": "676b9ad3",
   "metadata": {},
   "outputs": [
    {
     "data": {
      "text/html": [
       "<style>#sk-container-id-1 {color: black;background-color: white;}#sk-container-id-1 pre{padding: 0;}#sk-container-id-1 div.sk-toggleable {background-color: white;}#sk-container-id-1 label.sk-toggleable__label {cursor: pointer;display: block;width: 100%;margin-bottom: 0;padding: 0.3em;box-sizing: border-box;text-align: center;}#sk-container-id-1 label.sk-toggleable__label-arrow:before {content: \"▸\";float: left;margin-right: 0.25em;color: #696969;}#sk-container-id-1 label.sk-toggleable__label-arrow:hover:before {color: black;}#sk-container-id-1 div.sk-estimator:hover label.sk-toggleable__label-arrow:before {color: black;}#sk-container-id-1 div.sk-toggleable__content {max-height: 0;max-width: 0;overflow: hidden;text-align: left;background-color: #f0f8ff;}#sk-container-id-1 div.sk-toggleable__content pre {margin: 0.2em;color: black;border-radius: 0.25em;background-color: #f0f8ff;}#sk-container-id-1 input.sk-toggleable__control:checked~div.sk-toggleable__content {max-height: 200px;max-width: 100%;overflow: auto;}#sk-container-id-1 input.sk-toggleable__control:checked~label.sk-toggleable__label-arrow:before {content: \"▾\";}#sk-container-id-1 div.sk-estimator input.sk-toggleable__control:checked~label.sk-toggleable__label {background-color: #d4ebff;}#sk-container-id-1 div.sk-label input.sk-toggleable__control:checked~label.sk-toggleable__label {background-color: #d4ebff;}#sk-container-id-1 input.sk-hidden--visually {border: 0;clip: rect(1px 1px 1px 1px);clip: rect(1px, 1px, 1px, 1px);height: 1px;margin: -1px;overflow: hidden;padding: 0;position: absolute;width: 1px;}#sk-container-id-1 div.sk-estimator {font-family: monospace;background-color: #f0f8ff;border: 1px dotted black;border-radius: 0.25em;box-sizing: border-box;margin-bottom: 0.5em;}#sk-container-id-1 div.sk-estimator:hover {background-color: #d4ebff;}#sk-container-id-1 div.sk-parallel-item::after {content: \"\";width: 100%;border-bottom: 1px solid gray;flex-grow: 1;}#sk-container-id-1 div.sk-label:hover label.sk-toggleable__label {background-color: #d4ebff;}#sk-container-id-1 div.sk-serial::before {content: \"\";position: absolute;border-left: 1px solid gray;box-sizing: border-box;top: 0;bottom: 0;left: 50%;z-index: 0;}#sk-container-id-1 div.sk-serial {display: flex;flex-direction: column;align-items: center;background-color: white;padding-right: 0.2em;padding-left: 0.2em;position: relative;}#sk-container-id-1 div.sk-item {position: relative;z-index: 1;}#sk-container-id-1 div.sk-parallel {display: flex;align-items: stretch;justify-content: center;background-color: white;position: relative;}#sk-container-id-1 div.sk-item::before, #sk-container-id-1 div.sk-parallel-item::before {content: \"\";position: absolute;border-left: 1px solid gray;box-sizing: border-box;top: 0;bottom: 0;left: 50%;z-index: -1;}#sk-container-id-1 div.sk-parallel-item {display: flex;flex-direction: column;z-index: 1;position: relative;background-color: white;}#sk-container-id-1 div.sk-parallel-item:first-child::after {align-self: flex-end;width: 50%;}#sk-container-id-1 div.sk-parallel-item:last-child::after {align-self: flex-start;width: 50%;}#sk-container-id-1 div.sk-parallel-item:only-child::after {width: 0;}#sk-container-id-1 div.sk-dashed-wrapped {border: 1px dashed gray;margin: 0 0.4em 0.5em 0.4em;box-sizing: border-box;padding-bottom: 0.4em;background-color: white;}#sk-container-id-1 div.sk-label label {font-family: monospace;font-weight: bold;display: inline-block;line-height: 1.2em;}#sk-container-id-1 div.sk-label-container {text-align: center;}#sk-container-id-1 div.sk-container {/* jupyter's `normalize.less` sets `[hidden] { display: none; }` but bootstrap.min.css set `[hidden] { display: none !important; }` so we also need the `!important` here to be able to override the default hidden behavior on the sphinx rendered scikit-learn.org. See: https://github.com/scikit-learn/scikit-learn/issues/21755 */display: inline-block !important;position: relative;}#sk-container-id-1 div.sk-text-repr-fallback {display: none;}</style><div id=\"sk-container-id-1\" class=\"sk-top-container\"><div class=\"sk-text-repr-fallback\"><pre>LinearRegression()</pre><b>In a Jupyter environment, please rerun this cell to show the HTML representation or trust the notebook. <br />On GitHub, the HTML representation is unable to render, please try loading this page with nbviewer.org.</b></div><div class=\"sk-container\" hidden><div class=\"sk-item\"><div class=\"sk-estimator sk-toggleable\"><input class=\"sk-toggleable__control sk-hidden--visually\" id=\"sk-estimator-id-1\" type=\"checkbox\" checked><label for=\"sk-estimator-id-1\" class=\"sk-toggleable__label sk-toggleable__label-arrow\">LinearRegression</label><div class=\"sk-toggleable__content\"><pre>LinearRegression()</pre></div></div></div></div></div>"
      ],
      "text/plain": [
       "LinearRegression()"
      ]
     },
     "execution_count": 51,
     "metadata": {},
     "output_type": "execute_result"
    }
   ],
   "source": [
    "lin_reg_model.fit(train_data,y_train)\n"
   ]
  },
  {
   "cell_type": "markdown",
   "id": "7bfe3840",
   "metadata": {},
   "source": [
    "Model Evaluation "
   ]
  },
  {
   "cell_type": "code",
   "execution_count": 52,
   "id": "18e9adc2",
   "metadata": {
    "scrolled": true
   },
   "outputs": [
    {
     "data": {
      "text/plain": [
       "160649.11777857482"
      ]
     },
     "execution_count": 52,
     "metadata": {},
     "output_type": "execute_result"
    }
   ],
   "source": [
    "rmse_mean = lin_reg_rmse.mean()\n",
    "rmse_mean"
   ]
  },
  {
   "cell_type": "code",
   "execution_count": 53,
   "id": "dda5f203",
   "metadata": {},
   "outputs": [
    {
     "data": {
      "text/plain": [
       "0.5812226769690965"
      ]
     },
     "execution_count": 53,
     "metadata": {},
     "output_type": "execute_result"
    }
   ],
   "source": [
    "lin_reg_model.score(train_data,y_train)"
   ]
  },
  {
   "cell_type": "code",
   "execution_count": 54,
   "id": "29d07bb4",
   "metadata": {},
   "outputs": [],
   "source": [
    "#prediction on Test data \n",
    "y_pred = lin_reg_model.predict(test_data)"
   ]
  },
  {
   "cell_type": "code",
   "execution_count": 55,
   "id": "d0521d55",
   "metadata": {},
   "outputs": [
    {
     "name": "stdout",
     "output_type": "stream",
     "text": [
      "R squered Error :  0.5794354744626731\n"
     ]
    }
   ],
   "source": [
    "# R squared Error\n",
    "error_score = metrics.r2_score(y_test, y_pred)\n",
    "print(\"R squered Error : \", error_score)"
   ]
  },
  {
   "cell_type": "code",
   "execution_count": 56,
   "id": "b1ec9400",
   "metadata": {},
   "outputs": [
    {
     "data": {
      "text/plain": [
       "1.0"
      ]
     },
     "execution_count": 56,
     "metadata": {},
     "output_type": "execute_result"
    }
   ],
   "source": [
    "lin_reg_model.score(test_data,y_pred)\n"
   ]
  },
  {
   "cell_type": "code",
   "execution_count": 57,
   "id": "5658ba00",
   "metadata": {},
   "outputs": [
    {
     "data": {
      "text/html": [
       "<style>#sk-container-id-2 {color: black;background-color: white;}#sk-container-id-2 pre{padding: 0;}#sk-container-id-2 div.sk-toggleable {background-color: white;}#sk-container-id-2 label.sk-toggleable__label {cursor: pointer;display: block;width: 100%;margin-bottom: 0;padding: 0.3em;box-sizing: border-box;text-align: center;}#sk-container-id-2 label.sk-toggleable__label-arrow:before {content: \"▸\";float: left;margin-right: 0.25em;color: #696969;}#sk-container-id-2 label.sk-toggleable__label-arrow:hover:before {color: black;}#sk-container-id-2 div.sk-estimator:hover label.sk-toggleable__label-arrow:before {color: black;}#sk-container-id-2 div.sk-toggleable__content {max-height: 0;max-width: 0;overflow: hidden;text-align: left;background-color: #f0f8ff;}#sk-container-id-2 div.sk-toggleable__content pre {margin: 0.2em;color: black;border-radius: 0.25em;background-color: #f0f8ff;}#sk-container-id-2 input.sk-toggleable__control:checked~div.sk-toggleable__content {max-height: 200px;max-width: 100%;overflow: auto;}#sk-container-id-2 input.sk-toggleable__control:checked~label.sk-toggleable__label-arrow:before {content: \"▾\";}#sk-container-id-2 div.sk-estimator input.sk-toggleable__control:checked~label.sk-toggleable__label {background-color: #d4ebff;}#sk-container-id-2 div.sk-label input.sk-toggleable__control:checked~label.sk-toggleable__label {background-color: #d4ebff;}#sk-container-id-2 input.sk-hidden--visually {border: 0;clip: rect(1px 1px 1px 1px);clip: rect(1px, 1px, 1px, 1px);height: 1px;margin: -1px;overflow: hidden;padding: 0;position: absolute;width: 1px;}#sk-container-id-2 div.sk-estimator {font-family: monospace;background-color: #f0f8ff;border: 1px dotted black;border-radius: 0.25em;box-sizing: border-box;margin-bottom: 0.5em;}#sk-container-id-2 div.sk-estimator:hover {background-color: #d4ebff;}#sk-container-id-2 div.sk-parallel-item::after {content: \"\";width: 100%;border-bottom: 1px solid gray;flex-grow: 1;}#sk-container-id-2 div.sk-label:hover label.sk-toggleable__label {background-color: #d4ebff;}#sk-container-id-2 div.sk-serial::before {content: \"\";position: absolute;border-left: 1px solid gray;box-sizing: border-box;top: 0;bottom: 0;left: 50%;z-index: 0;}#sk-container-id-2 div.sk-serial {display: flex;flex-direction: column;align-items: center;background-color: white;padding-right: 0.2em;padding-left: 0.2em;position: relative;}#sk-container-id-2 div.sk-item {position: relative;z-index: 1;}#sk-container-id-2 div.sk-parallel {display: flex;align-items: stretch;justify-content: center;background-color: white;position: relative;}#sk-container-id-2 div.sk-item::before, #sk-container-id-2 div.sk-parallel-item::before {content: \"\";position: absolute;border-left: 1px solid gray;box-sizing: border-box;top: 0;bottom: 0;left: 50%;z-index: -1;}#sk-container-id-2 div.sk-parallel-item {display: flex;flex-direction: column;z-index: 1;position: relative;background-color: white;}#sk-container-id-2 div.sk-parallel-item:first-child::after {align-self: flex-end;width: 50%;}#sk-container-id-2 div.sk-parallel-item:last-child::after {align-self: flex-start;width: 50%;}#sk-container-id-2 div.sk-parallel-item:only-child::after {width: 0;}#sk-container-id-2 div.sk-dashed-wrapped {border: 1px dashed gray;margin: 0 0.4em 0.5em 0.4em;box-sizing: border-box;padding-bottom: 0.4em;background-color: white;}#sk-container-id-2 div.sk-label label {font-family: monospace;font-weight: bold;display: inline-block;line-height: 1.2em;}#sk-container-id-2 div.sk-label-container {text-align: center;}#sk-container-id-2 div.sk-container {/* jupyter's `normalize.less` sets `[hidden] { display: none; }` but bootstrap.min.css set `[hidden] { display: none !important; }` so we also need the `!important` here to be able to override the default hidden behavior on the sphinx rendered scikit-learn.org. See: https://github.com/scikit-learn/scikit-learn/issues/21755 */display: inline-block !important;position: relative;}#sk-container-id-2 div.sk-text-repr-fallback {display: none;}</style><div id=\"sk-container-id-2\" class=\"sk-top-container\"><div class=\"sk-text-repr-fallback\"><pre>LinearRegression()</pre><b>In a Jupyter environment, please rerun this cell to show the HTML representation or trust the notebook. <br />On GitHub, the HTML representation is unable to render, please try loading this page with nbviewer.org.</b></div><div class=\"sk-container\" hidden><div class=\"sk-item\"><div class=\"sk-estimator sk-toggleable\"><input class=\"sk-toggleable__control sk-hidden--visually\" id=\"sk-estimator-id-2\" type=\"checkbox\" checked><label for=\"sk-estimator-id-2\" class=\"sk-toggleable__label sk-toggleable__label-arrow\">LinearRegression</label><div class=\"sk-toggleable__content\"><pre>LinearRegression()</pre></div></div></div></div></div>"
      ],
      "text/plain": [
       "LinearRegression()"
      ]
     },
     "execution_count": 57,
     "metadata": {},
     "output_type": "execute_result"
    }
   ],
   "source": [
    "#fiting the model to reach more data to optinmize the score \n",
    "# Polynomial regression with degree 2\n",
    "poly_features = PolynomialFeatures(degree=2, include_bias=False)\n",
    "X_poly = poly_features.fit_transform(train_data)\n",
    "\n",
    "# Transform the test data using the same PolynomialFeatures instance\n",
    "X_test_poly = poly_features.transform(test_data)\n",
    "\n",
    "# Fit a linear regression model to the polynomial features\n",
    "lin_reg = LinearRegression()\n",
    "lin_reg.fit(X_poly, y_train)"
   ]
  },
  {
   "cell_type": "code",
   "execution_count": 63,
   "id": "b0bee0b5",
   "metadata": {
    "scrolled": true
   },
   "outputs": [
    {
     "data": {
      "text/plain": [
       "0.6994369137723155"
      ]
     },
     "execution_count": 63,
     "metadata": {},
     "output_type": "execute_result"
    }
   ],
   "source": [
    "lin_reg.score(X_poly,y_train)"
   ]
  },
  {
   "cell_type": "code",
   "execution_count": 58,
   "id": "ebf7e722",
   "metadata": {},
   "outputs": [],
   "source": [
    "prediction= lin_reg.predict(X_test_poly)"
   ]
  },
  {
   "cell_type": "code",
   "execution_count": 75,
   "id": "534f0e10",
   "metadata": {},
   "outputs": [
    {
     "name": "stdout",
     "output_type": "stream",
     "text": [
      "mean squared error : 18909389736.135384\n",
      "Root mean squared error :137511.41674833905\n"
     ]
    }
   ],
   "source": [
    "mse= mean_squared_error(y_test,prediction)\n",
    "print(f\"mean squared error : {mse}\")\n",
    "rmse= math.sqrt(mse)\n",
    "print(f\"Root mean squared error :{rmse}\")"
   ]
  },
  {
   "cell_type": "code",
   "execution_count": 76,
   "id": "e0c2c7e0",
   "metadata": {},
   "outputs": [
    {
     "name": "stdout",
     "output_type": "stream",
     "text": [
      "R squered Error :  0.7011642048523015\n"
     ]
    }
   ],
   "source": [
    "error_score2 = metrics.r2_score(y_test, prediction)\n",
    "print(\"R squered Error : \", error_score2)"
   ]
  },
  {
   "cell_type": "code",
   "execution_count": null,
   "id": "60a34823",
   "metadata": {},
   "outputs": [],
   "source": []
  },
  {
   "cell_type": "markdown",
   "id": "f35846f1",
   "metadata": {},
   "source": [
    "KNN MODEL"
   ]
  },
  {
   "cell_type": "markdown",
   "id": "1c4002f1",
   "metadata": {},
   "source": [
    "Define Hyperprameters "
   ]
  },
  {
   "cell_type": "code",
   "execution_count": 64,
   "id": "c3b35109",
   "metadata": {},
   "outputs": [],
   "source": [
    "neighbors = np.arange(1, 26)\n",
    "rmse_values =[]\n",
    "for neighbor in neighbors:\n",
    "    knn = KNeighborsRegressor(n_neighbors = neighbor)\n",
    "    knn.fit(train_data,y_train)\n",
    "    y_pred = knn.predict(test_data)\n",
    "    rmse = math.sqrt(mean_squared_error(y_test, y_pred))\n",
    "    rmse_values.append(rmse)"
   ]
  },
  {
   "cell_type": "code",
   "execution_count": 65,
   "id": "f8151664",
   "metadata": {},
   "outputs": [
    {
     "data": {
      "image/png": "[encoded data removed]",
      "text/plain": [
       "<Figure size 640x480 with 1 Axes>"
      ]
     },
     "metadata": {},
     "output_type": "display_data"
    }
   ],
   "source": [
    "plt.plot(neighbors, rmse_values, marker='s')\n",
    "plt.title(\"RMSE curve for different KNeighbors\")\n",
    "plt.xlabel(\"KNeighbors\")\n",
    "plt.ylabel(\"Root Mean Squared Error (RMSE)\")\n",
    "plt.show()"
   ]
  },
  {
   "cell_type": "code",
   "execution_count": 78,
   "id": "84eae557",
   "metadata": {
    "scrolled": true
   },
   "outputs": [],
   "source": [
    "knn_ = KNeighborsRegressor(n_neighbors = 3)"
   ]
  },
  {
   "cell_type": "code",
   "execution_count": 79,
   "id": "eb9cda17",
   "metadata": {},
   "outputs": [
    {
     "data": {
      "text/html": [
       "<style>#sk-container-id-4 {color: black;background-color: white;}#sk-container-id-4 pre{padding: 0;}#sk-container-id-4 div.sk-toggleable {background-color: white;}#sk-container-id-4 label.sk-toggleable__label {cursor: pointer;display: block;width: 100%;margin-bottom: 0;padding: 0.3em;box-sizing: border-box;text-align: center;}#sk-container-id-4 label.sk-toggleable__label-arrow:before {content: \"▸\";float: left;margin-right: 0.25em;color: #696969;}#sk-container-id-4 label.sk-toggleable__label-arrow:hover:before {color: black;}#sk-container-id-4 div.sk-estimator:hover label.sk-toggleable__label-arrow:before {color: black;}#sk-container-id-4 div.sk-toggleable__content {max-height: 0;max-width: 0;overflow: hidden;text-align: left;background-color: #f0f8ff;}#sk-container-id-4 div.sk-toggleable__content pre {margin: 0.2em;color: black;border-radius: 0.25em;background-color: #f0f8ff;}#sk-container-id-4 input.sk-toggleable__control:checked~div.sk-toggleable__content {max-height: 200px;max-width: 100%;overflow: auto;}#sk-container-id-4 input.sk-toggleable__control:checked~label.sk-toggleable__label-arrow:before {content: \"▾\";}#sk-container-id-4 div.sk-estimator input.sk-toggleable__control:checked~label.sk-toggleable__label {background-color: #d4ebff;}#sk-container-id-4 div.sk-label input.sk-toggleable__control:checked~label.sk-toggleable__label {background-color: #d4ebff;}#sk-container-id-4 input.sk-hidden--visually {border: 0;clip: rect(1px 1px 1px 1px);clip: rect(1px, 1px, 1px, 1px);height: 1px;margin: -1px;overflow: hidden;padding: 0;position: absolute;width: 1px;}#sk-container-id-4 div.sk-estimator {font-family: monospace;background-color: #f0f8ff;border: 1px dotted black;border-radius: 0.25em;box-sizing: border-box;margin-bottom: 0.5em;}#sk-container-id-4 div.sk-estimator:hover {background-color: #d4ebff;}#sk-container-id-4 div.sk-parallel-item::after {content: \"\";width: 100%;border-bottom: 1px solid gray;flex-grow: 1;}#sk-container-id-4 div.sk-label:hover label.sk-toggleable__label {background-color: #d4ebff;}#sk-container-id-4 div.sk-serial::before {content: \"\";position: absolute;border-left: 1px solid gray;box-sizing: border-box;top: 0;bottom: 0;left: 50%;z-index: 0;}#sk-container-id-4 div.sk-serial {display: flex;flex-direction: column;align-items: center;background-color: white;padding-right: 0.2em;padding-left: 0.2em;position: relative;}#sk-container-id-4 div.sk-item {position: relative;z-index: 1;}#sk-container-id-4 div.sk-parallel {display: flex;align-items: stretch;justify-content: center;background-color: white;position: relative;}#sk-container-id-4 div.sk-item::before, #sk-container-id-4 div.sk-parallel-item::before {content: \"\";position: absolute;border-left: 1px solid gray;box-sizing: border-box;top: 0;bottom: 0;left: 50%;z-index: -1;}#sk-container-id-4 div.sk-parallel-item {display: flex;flex-direction: column;z-index: 1;position: relative;background-color: white;}#sk-container-id-4 div.sk-parallel-item:first-child::after {align-self: flex-end;width: 50%;}#sk-container-id-4 div.sk-parallel-item:last-child::after {align-self: flex-start;width: 50%;}#sk-container-id-4 div.sk-parallel-item:only-child::after {width: 0;}#sk-container-id-4 div.sk-dashed-wrapped {border: 1px dashed gray;margin: 0 0.4em 0.5em 0.4em;box-sizing: border-box;padding-bottom: 0.4em;background-color: white;}#sk-container-id-4 div.sk-label label {font-family: monospace;font-weight: bold;display: inline-block;line-height: 1.2em;}#sk-container-id-4 div.sk-label-container {text-align: center;}#sk-container-id-4 div.sk-container {/* jupyter's `normalize.less` sets `[hidden] { display: none; }` but bootstrap.min.css set `[hidden] { display: none !important; }` so we also need the `!important` here to be able to override the default hidden behavior on the sphinx rendered scikit-learn.org. See: https://github.com/scikit-learn/scikit-learn/issues/21755 */display: inline-block !important;position: relative;}#sk-container-id-4 div.sk-text-repr-fallback {display: none;}</style><div id=\"sk-container-id-4\" class=\"sk-top-container\"><div class=\"sk-text-repr-fallback\"><pre>KNeighborsRegressor(n_neighbors=3)</pre><b>In a Jupyter environment, please rerun this cell to show the HTML representation or trust the notebook. <br />On GitHub, the HTML representation is unable to render, please try loading this page with nbviewer.org.</b></div><div class=\"sk-container\" hidden><div class=\"sk-item\"><div class=\"sk-estimator sk-toggleable\"><input class=\"sk-toggleable__control sk-hidden--visually\" id=\"sk-estimator-id-4\" type=\"checkbox\" checked><label for=\"sk-estimator-id-4\" class=\"sk-toggleable__label sk-toggleable__label-arrow\">KNeighborsRegressor</label><div class=\"sk-toggleable__content\"><pre>KNeighborsRegressor(n_neighbors=3)</pre></div></div></div></div></div>"
      ],
      "text/plain": [
       "KNeighborsRegressor(n_neighbors=3)"
      ]
     },
     "execution_count": 79,
     "metadata": {},
     "output_type": "execute_result"
    }
   ],
   "source": [
    "knn_.fit(train_data,y_train)"
   ]
  },
  {
   "cell_type": "code",
   "execution_count": 81,
   "id": "554b1ca4",
   "metadata": {},
   "outputs": [
    {
     "data": {
      "text/plain": [
       "0.8894600134395094"
      ]
     },
     "execution_count": 81,
     "metadata": {},
     "output_type": "execute_result"
    }
   ],
   "source": [
    "knn_.score(train_data, y_train)"
   ]
  },
  {
   "cell_type": "code",
   "execution_count": 82,
   "id": "0d3733d2",
   "metadata": {},
   "outputs": [],
   "source": [
    "y_pred = knn_.predict(test_data)"
   ]
  },
  {
   "cell_type": "code",
   "execution_count": 83,
   "id": "b4959645",
   "metadata": {},
   "outputs": [
    {
     "name": "stdout",
     "output_type": "stream",
     "text": [
      "R squered Error :  0.7724382673260414\n"
     ]
    }
   ],
   "source": [
    "error_score2 = metrics.r2_score(y_test, y_pred)\n",
    "print(\"R squered Error : \", error_score2)"
   ]
  },
  {
   "cell_type": "code",
   "execution_count": null,
   "id": "1bee06d7",
   "metadata": {},
   "outputs": [],
   "source": []
  }
 ],
 "metadata": {
  "kernelspec": {
   "display_name": "Python 3 (ipykernel)",
   "language": "python",
   "name": "python3"
  },
  "language_info": {
   "codemirror_mode": {
    "name": "ipython",
    "version": 3
   },
   "file_extension": ".py",
   "mimetype": "text/x-python",
   "name": "python",
   "nbconvert_exporter": "python",
   "pygments_lexer": "ipython3",
   "version": "3.11.3"
  }
 },
 "nbformat": 4,
 "nbformat_minor": 5
}
